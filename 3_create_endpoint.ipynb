{
 "cells": [
  {
   "cell_type": "code",
   "execution_count": null,
   "id": "initial_id",
   "metadata": {
    "collapsed": true
   },
   "outputs": [],
   "source": [
    "import os\n",
    "import boto3\n",
    "import sagemaker\n",
    "from typing import Final\n",
    "from time import sleep\n",
    "\n",
    "# 各種クライアントの設定\n",
    "smr_client: Final = boto3.client('sagemaker-runtime')\n",
    "sm_client: Final = boto3.client('sagemaker')\n",
    "s3_client: Final = boto3.client('s3')\n",
    "endpoint_waiter: Final = sm_client.get_waiter('endpoint_in_service')\n",
    "\n",
    "# 各種変数の設定\n",
    "role: Final[str] = sagemaker.get_execution_role()\n",
    "region: Final[str] = sagemaker.Session().boto_region_name\n",
    "bucket: Final[str] = sagemaker.Session().default_bucket()\n",
    "account_id: Final[str] = boto3.client('sts').get_caller_identity().get('Account')"
   ]
  },
  {
   "metadata": {},
   "cell_type": "code",
   "outputs": [],
   "execution_count": null,
   "source": [
    "# 作業ディレクトリに移動\n",
    "os.chdir('/home/ec2-user/SageMaker/')\n",
    "\n",
    "# モデルのディレクトリを設定\n",
    "model_dir: Final[str] = 'whisper-model'\n",
    "\n",
    "# モデルをS3にアップロード\n",
    "model_s3_uri: Final[str] = sagemaker.Session().upload_data(\n",
    "    f'./{model_dir}/model.tar.gz',\n",
    "    key_prefix='whisper-transcribe'\n",
    ")\n",
    "print(model_s3_uri)"
   ],
   "id": "5a2d7e6e76c2b47c"
  },
  {
   "metadata": {},
   "cell_type": "code",
   "outputs": [],
   "execution_count": null,
   "source": [
    "# デプロイリソース名の設定\n",
    "model_name: Final[str] = 'WhisperTranscribeModel'\n",
    "variant_name: Final[str] = 'AllTrafic'\n",
    "endpoint_name: Final[str] = model_name + 'Endpoint'\n",
    "endpoint_config_name: Final[str] = model_name + 'EndpointConfig'"
   ],
   "id": "c86c3d2be6acb9b9"
  },
  {
   "metadata": {},
   "cell_type": "code",
   "outputs": [],
   "execution_count": null,
   "source": [
    "# Sagemaker Model 作成\n",
    "sm_client.create_model(\n",
    "    ModelName=model_name,\n",
    "    PrimaryContainer={\n",
    "        'Image': f'{account_id}.dkr.ecr.{region}.amazonaws.com/whisper-transcribe:GPU',\n",
    "        'ModelDataUrl': model_s3_uri,\n",
    "        'Environment': {\n",
    "            'SAGEMAKER_CONTAINER_LOG_LEVEL': '20',\n",
    "            'SAGEMAKER_PROGRAM': 'inference.py',\n",
    "            'SAGEMAKER_REGION': region,\n",
    "            'SAGEMAKER_SUBMIT_DIRECTORY': '/opt/ml/model/code',\n",
    "            'TS_MAX_REQUEST_SIZE': '1000000000',\n",
    "            'TS_MAX_RESPONSE_SIZE': '1000000000',\n",
    "            'TS_DEFAULT_RESPONSE_TIMEOUT': '3600'\n",
    "        }\n",
    "    },\n",
    "    ExecutionRoleArn=role,\n",
    ")"
   ],
   "id": "f0eb44cbc50c7eb3"
  },
  {
   "metadata": {},
   "cell_type": "code",
   "outputs": [],
   "execution_count": null,
   "source": [
    "# Sagemaker EndpointConfig 作成\n",
    "sm_client.create_endpoint_config(\n",
    "    EndpointConfigName=endpoint_config_name,\n",
    "    ProductionVariants=[\n",
    "        {\n",
    "            'VariantName': variant_name,\n",
    "            'ModelName': model_name,\n",
    "            'InitialInstanceCount': 1,\n",
    "            'InstanceType': 'ml.g4dn.xlarge'\n",
    "        }\n",
    "    ],\n",
    "    AsyncInferenceConfig={\n",
    "        \"OutputConfig\": {\n",
    "            \"S3OutputPath\": f\"s3://{bucket}/whisper-transcribe/async-inference/output\"\n",
    "        }\n",
    "    }\n",
    ")"
   ],
   "id": "cc4d423a6f1fdfe2"
  },
  {
   "metadata": {},
   "cell_type": "code",
   "outputs": [],
   "execution_count": null,
   "source": [
    "# 非同期 Endpoint 作成\n",
    "sm_client.create_endpoint(\n",
    "    EndpointName=endpoint_name,\n",
    "    EndpointConfigName=endpoint_config_name,\n",
    ")\n",
    "\n",
    "# 非同期 Endpoint 更新\n",
    "# sm_client.update_endpoint(\n",
    "#     EndpointName=endpoint_name,\n",
    "#     EndpointConfigName=endpoint_config_name,\n",
    "# )\n",
    "\n",
    "# Endpoint が有効化されるまで待つ\n",
    "endpoint_waiter.wait(\n",
    "    EndpointName=endpoint_name,\n",
    "    WaiterConfig={'Delay': 5}\n",
    ")"
   ],
   "id": "10645491877cbbe4"
  },
  {
   "metadata": {},
   "cell_type": "code",
   "outputs": [],
   "execution_count": null,
   "source": [
    "# 非同期 Endpoint 呼び出し\n",
    "response = smr_client.invoke_endpoint_async(\n",
    "    EndpointName=endpoint_name,\n",
    "    InputLocation=f\"s3://{bucket}/whisper-transcribe/async-inference/input/test.mp3\",\n",
    "    ContentType='audio/mpeg',\n",
    "    Accept='text/plain'\n",
    ")\n",
    "output_s3_uri = response['OutputLocation']\n",
    "output_key = output_s3_uri.replace(f's3://{bucket}/', '')\n",
    "while True:\n",
    "    result = s3_client.list_objects(Bucket=bucket, Prefix=output_key)\n",
    "    exists = True if \"Contents\" in result else False\n",
    "    if exists:\n",
    "        print('!')\n",
    "        obj = s3_client.get_object(Bucket=bucket, Key=output_key)\n",
    "        predictions = obj['Body'].read().decode()\n",
    "        print(predictions)\n",
    "        break\n",
    "    else:\n",
    "        print('.', end='')\n",
    "        sleep(0.1)"
   ],
   "id": "578b606bdb833328"
  },
  {
   "metadata": {},
   "cell_type": "code",
   "outputs": [],
   "execution_count": null,
   "source": [
    "# 非同期 Endpoint 削除\n",
    "sm_client.delete_endpoint(EndpointName=endpoint_name)\n",
    "sm_client.delete_endpoint_config(EndpointConfigName=endpoint_config_name)\n",
    "sm_client.delete_model(ModelName=model_name)"
   ],
   "id": "1d11d7f559c3cb7f"
  }
 ],
 "metadata": {
  "kernelspec": {
   "display_name": "Python 3",
   "language": "python",
   "name": "python3"
  },
  "language_info": {
   "codemirror_mode": {
    "name": "ipython",
    "version": 2
   },
   "file_extension": ".py",
   "mimetype": "text/x-python",
   "name": "python",
   "nbconvert_exporter": "python",
   "pygments_lexer": "ipython2",
   "version": "2.7.6"
  }
 },
 "nbformat": 4,
 "nbformat_minor": 5
}
