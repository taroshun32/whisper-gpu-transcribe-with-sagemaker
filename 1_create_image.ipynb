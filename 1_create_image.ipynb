{
 "cells": [
  {
   "cell_type": "code",
   "execution_count": null,
   "id": "initial_id",
   "metadata": {
    "collapsed": true
   },
   "outputs": [],
   "source": [
    "import os\n",
    "import boto3\n",
    "from sagemaker import image_uris"
   ]
  },
  {
   "metadata": {},
   "cell_type": "code",
   "outputs": [],
   "execution_count": null,
   "source": [
    "# AWSのリージョンとアカウントIDを取得\n",
    "region = boto3.session.Session().region_name\n",
    "account_id = boto3.client('sts').get_caller_identity().get('Account')\n",
    "\n",
    "# ECRのリポジトリ名とイメージのタグを設定\n",
    "repository_name = 'whisper-transcribe'\n",
    "image_tag = 'GPU'\n",
    "\n",
    "# DockerイメージのURIを作成\n",
    "image_uri = f'{account_id}.dkr.ecr.{region}.amazonaws.com/{repository_name}:{image_tag}'"
   ],
   "id": "4149c9cbf148e3d4"
  },
  {
   "metadata": {},
   "cell_type": "code",
   "outputs": [],
   "execution_count": null,
   "source": [
    "# 作業ディレクトリに移動\n",
    "os.chdir('/home/ec2-user/SageMaker/')"
   ],
   "id": "ca08ecded16a2637"
  },
  {
   "metadata": {},
   "cell_type": "code",
   "outputs": [],
   "execution_count": null,
   "source": [
    "# SageMaker公式のPyTorchの推論用Dockerイメージ名を取得\n",
    "image_uris.retrieve(framework='pytorch',region='ap-northeast-1',version='2.2.0',py_version='py310',image_scope='inference', instance_type='ml.g4dn.xlarge')"
   ],
   "id": "78ea985450891dc2"
  },
  {
   "metadata": {},
   "cell_type": "code",
   "outputs": [],
   "execution_count": null,
   "source": [
    "# AWS公式のDockerイメージをPull\n",
    "os.system('aws ecr get-login-password --region ap-northeast-1 | docker login --username AWS --password-stdin 763104351884.dkr.ecr.ap-northeast-1.amazonaws.com')\n",
    "os.system('docker pull 763104351884.dkr.ecr.ap-northeast-1.amazonaws.com/pytorch-inference:2.2.0-gpu-py310')"
   ],
   "id": "6a034995f2b59316"
  },
  {
   "metadata": {},
   "cell_type": "code",
   "outputs": [],
   "execution_count": null,
   "source": [
    "# Dockerイメージをビルド\n",
    "os.system(f'docker build -t {repository_name}:{image_tag} .')"
   ],
   "id": "3f1e9a5bac53cf21"
  },
  {
   "metadata": {},
   "cell_type": "code",
   "outputs": [],
   "execution_count": null,
   "source": [
    "# ECRにログイン\n",
    "os.system(f'$(aws ecr get-login --region {region} --no-include-email)')\n",
    "\n",
    "# ECRのリポジトリを作成（すでに存在する場合はスキップ）\n",
    "os.system(f'aws ecr create-repository --repository-name {repository_name}')\n",
    "\n",
    "# DockerイメージをECRにプッシュ\n",
    "os.system(f'docker tag {repository_name}:{image_tag} {image_uri}')\n",
    "os.system(f'docker push {image_uri}')"
   ],
   "id": "e7e0eff2549c9b07"
  }
 ],
 "metadata": {
  "kernelspec": {
   "display_name": "Python 3",
   "language": "python",
   "name": "python3"
  },
  "language_info": {
   "codemirror_mode": {
    "name": "ipython",
    "version": 2
   },
   "file_extension": ".py",
   "mimetype": "text/x-python",
   "name": "python",
   "nbconvert_exporter": "python",
   "pygments_lexer": "ipython2",
   "version": "2.7.6"
  }
 },
 "nbformat": 4,
 "nbformat_minor": 5
}
