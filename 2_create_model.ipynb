{
 "cells": [
  {
   "cell_type": "code",
   "execution_count": null,
   "id": "initial_id",
   "metadata": {
    "collapsed": true
   },
   "outputs": [],
   "source": "!pip install faster-whisper==0.10.1"
  },
  {
   "metadata": {},
   "cell_type": "code",
   "outputs": [],
   "execution_count": null,
   "source": [
    "import os\n",
    "from typing         import Final\n",
    "from faster_whisper import download_model\n",
    "\n",
    "# 作業ディレクトリに移動\n",
    "os.chdir('/home/ec2-user/SageMaker/')\n",
    "\n",
    "# モデルのディレクトリを設定\n",
    "model_dir: Final[str] = 'whisper-model'\n",
    "\n",
    "# モデルのダウンロード\n",
    "model_name = 'large-v3'\n",
    "download_model(model_name, output_dir=model_dir)"
   ],
   "id": "6b4c16c9ef0f2ee2"
  },
  {
   "metadata": {},
   "cell_type": "code",
   "outputs": [],
   "execution_count": null,
   "source": [
    "# モデルの圧縮\n",
    "%cd {model_dir}\n",
    "!cp ../inference.py ./\n",
    "!tar zcvf model.tar.gz ./*\n",
    "%cd .."
   ],
   "id": "69891542be4fba4e"
  }
 ],
 "metadata": {
  "kernelspec": {
   "display_name": "Python 3",
   "language": "python",
   "name": "python3"
  },
  "language_info": {
   "codemirror_mode": {
    "name": "ipython",
    "version": 2
   },
   "file_extension": ".py",
   "mimetype": "text/x-python",
   "name": "python",
   "nbconvert_exporter": "python",
   "pygments_lexer": "ipython2",
   "version": "2.7.6"
  }
 },
 "nbformat": 4,
 "nbformat_minor": 5
}
